{
 "cells": [
  {
   "cell_type": "code",
   "execution_count": 3,
   "metadata": {
    "collapsed": true
   },
   "outputs": [],
   "source": [
    "from calendar import monthrange\n",
    "\n",
    "\n",
    "def get_palindrome_date(y):\n",
    "    \"\"\"\n",
    "    This function return palindrome date in a century \n",
    "    :param y: \n",
    "    :return: \n",
    "    \"\"\"\n",
    "    \n",
    "    century_start = (y // 100) * 100 + 1\n",
    "    century_end = century_start + 99\n",
    "    count = 0\n",
    "    for year in range(century_start, century_end):\n",
    "        for month in range(1, 13):\n",
    "            number_of_days = monthrange(year, month)[1]\n",
    "            flag = False\n",
    "            if len(str(month)) == 1:\n",
    "                month_string = '0' + str(month)\n",
    "                flag = True\n",
    "            else:\n",
    "                month_string = str(month)\n",
    "            for day in range(1, number_of_days + 1):\n",
    "                if len(str(day)) == 1:\n",
    "                    date_string = month_string + '0' + str(day) + str(year)\n",
    "                else:\n",
    "                    date_string = month_string + str(day) + str(year)\n",
    "\n",
    "                if list(reversed(date_string)) == list(date_string):\n",
    "                    count += 1\n",
    "                elif flag and list(reversed(date_string[0:len(date_string) - 1])) == list(\n",
    "                        date_string[0:len(date_string) - 1]):\n",
    "                    count += 1\n",
    "\n",
    "                elif flag and list(reversed(date_string[1:len(date_string)])) == list(date_string[1:len(date_string)]):\n",
    "                    count += 1\n",
    "\n",
    "    return count\n"
   ]
  },
  {
   "cell_type": "code",
   "execution_count": 4,
   "metadata": {},
   "outputs": [
    {
     "data": {
      "text/plain": [
       "38"
      ]
     },
     "execution_count": 4,
     "metadata": {},
     "output_type": "execute_result"
    }
   ],
   "source": [
    "get_palindrome_date(2016)"
   ]
  },
  {
   "cell_type": "code",
   "execution_count": null,
   "metadata": {
    "collapsed": true
   },
   "outputs": [],
   "source": []
  }
 ],
 "metadata": {
  "kernelspec": {
   "display_name": "Python [conda env:anaconda]",
   "language": "python",
   "name": "conda-env-anaconda-py"
  },
  "language_info": {
   "codemirror_mode": {
    "name": "ipython",
    "version": 3
   },
   "file_extension": ".py",
   "mimetype": "text/x-python",
   "name": "python",
   "nbconvert_exporter": "python",
   "pygments_lexer": "ipython3",
   "version": "3.6.1"
  }
 },
 "nbformat": 4,
 "nbformat_minor": 2
}
