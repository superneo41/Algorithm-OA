{
 "cells": [
  {
   "cell_type": "code",
   "execution_count": 1,
   "metadata": {
    "collapsed": true
   },
   "outputs": [],
   "source": [
    "import numpy as np"
   ]
  },
  {
   "cell_type": "code",
   "execution_count": 62,
   "metadata": {},
   "outputs": [],
   "source": [
    "arr=np.array([[5,5,5,5,5],[5,1,5,5,5],[5,5,5,4,5],[5,5,4,2,3],[0,5,5,3,4]])"
   ]
  },
  {
   "cell_type": "code",
   "execution_count": 63,
   "metadata": {},
   "outputs": [
    {
     "name": "stdout",
     "output_type": "stream",
     "text": [
      "[[5 5 5 5 5]\n",
      " [5 1 5 5 5]\n",
      " [5 5 5 4 5]\n",
      " [5 5 4 2 3]\n",
      " [0 5 5 3 4]]\n"
     ]
    },
    {
     "data": {
      "text/plain": [
       "5"
      ]
     },
     "execution_count": 63,
     "metadata": {},
     "output_type": "execute_result"
    }
   ],
   "source": [
    "print(arr)"
   ]
  },
  {
   "cell_type": "code",
   "execution_count": 60,
   "metadata": {
    "collapsed": true
   },
   "outputs": [],
   "source": [
    "# find local minima of a 2D array\n",
    "def check_min(arr,i,j,n):\n",
    "    top = arr[i-1,j] if i-1>=0 else np.iinfo(np.int32).max\n",
    "    bot = arr[i+1,j] if i+1<n else np.iinfo(np.int32).max\n",
    "    left = arr[i,j-1] if j-1 >=0 else np.iinfo(np.int32).max\n",
    "    right = arr[i,j+1] if j+1<n else np.iinfo(np.int32).max\n",
    "    tmp = arr[i,j]\n",
    "    if tmp < min(top, bot,left,right):\n",
    "        return True\n",
    "    else:\n",
    "        return False\n",
    "\n",
    "\n",
    "def minima(arr):\n",
    "    n = arr.shape[0]\n",
    "    res = []\n",
    "    for i in range(n):\n",
    "        for j in range(n):\n",
    "            if check_min(arr,i,j,n):\n",
    "                res.append(arr[i,j])\n",
    "    res.sort()\n",
    "    return res[0:3]\n",
    "\n"
   ]
  },
  {
   "cell_type": "code",
   "execution_count": 61,
   "metadata": {},
   "outputs": [
    {
     "data": {
      "text/plain": [
       "[0, 1, 2]"
      ]
     },
     "execution_count": 61,
     "metadata": {},
     "output_type": "execute_result"
    }
   ],
   "source": [
    "minima(arr)"
   ]
  }
 ],
 "metadata": {
  "kernelspec": {
   "display_name": "Python [conda env:anaconda]",
   "language": "python",
   "name": "conda-env-anaconda-py"
  },
  "language_info": {
   "codemirror_mode": {
    "name": "ipython",
    "version": 3
   },
   "file_extension": ".py",
   "mimetype": "text/x-python",
   "name": "python",
   "nbconvert_exporter": "python",
   "pygments_lexer": "ipython3",
   "version": "3.6.1"
  }
 },
 "nbformat": 4,
 "nbformat_minor": 2
}
