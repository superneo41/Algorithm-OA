{
 "cells": [
  {
   "cell_type": "code",
   "execution_count": null,
   "metadata": {
    "collapsed": true
   },
   "outputs": [],
   "source": [
    "TIME = 1000               # number of iterations\n",
    "\n",
    "\n",
    "def main():\n",
    "    n = int(input(\"Enter number of coffee chains: \"))\n",
    "    while not 25 > n > 0:       # error checking\n",
    "        print(\"Should be below 25\")\n",
    "        n = int(input(\"Enter number of coffee chains: \"))\n",
    "\n",
    "    # Taking input from user about the chains and their shift\n",
    "    print(\"Enter market share of each coffee chain(sum of share shoud be 1\")\n",
    "    mShare = [float(input()) for i in range(n)]\n",
    "    shiftRate = []\n",
    "    for i in range(n):\n",
    "        print(\"Enter toShift chain for chain(\" + str(i + 1) + \"): \", end=\"\")\n",
    "        temp1 = int(input()) - 1\n",
    "        print(\"Enter the shift value to that chain: \", end=\" \")\n",
    "        temp2 = float(input())\n",
    "        shiftRate.append([temp1, temp2])\n",
    "\n",
    "    # iterations so that market share changes as per specified manner\n",
    "    # updation of the market shares should be done simultaneously\n",
    "    for day in range(TIME):\n",
    "        newShare = mShare[:]                    # copy of market share\n",
    "        shift = [0]*n                           # amount to be shifted array\n",
    "        for chain in range(n):                  # loop per chain\n",
    "            temp1 = shiftRate[chain][1]         # storing shift value\n",
    "            temp2 = newShare[chain] - temp1     # storing share value\n",
    "            if temp2 < 0:                       # check if share is negative\n",
    "                temp2 = 0                       # put share as 0\n",
    "                temp1 = newShare[chain]         # store shift as its current market value\n",
    "            newShare[chain] = round(temp2,1)\n",
    "            shift[shiftRate[chain][0]] = temp1  # storing shift value\n",
    "        mShare =[newShare[i]+shift[i] for i in range(n)]    # updating the new market share\n",
    "\n",
    "    print(\"\\n\")\n",
    "    print(\"Market share after \" + str(TIME) + \" days is:\", end=\"\")\n",
    "    print(mShare)\n",
    "\n",
    "    \n",
    "#### stupid solution!!!\n",
    "########################"
   ]
  },
  {
   "cell_type": "code",
   "execution_count": 2,
   "metadata": {},
   "outputs": [],
   "source": [
    "import numpy as np\n"
   ]
  },
  {
   "cell_type": "code",
   "execution_count": 4,
   "metadata": {},
   "outputs": [],
   "source": [
    "a=np.array([0.4,0.6])\n",
    "b=np.array([[0.8,0.2],[0.1,0.9]])"
   ]
  },
  {
   "cell_type": "code",
   "execution_count": 5,
   "metadata": {},
   "outputs": [
    {
     "data": {
      "text/plain": [
       "array([[0.8, 0.2],\n",
       "       [0.1, 0.9]])"
      ]
     },
     "execution_count": 5,
     "metadata": {},
     "output_type": "execute_result"
    }
   ],
   "source": [
    "b"
   ]
  },
  {
   "cell_type": "code",
   "execution_count": 6,
   "metadata": {},
   "outputs": [
    {
     "data": {
      "text/plain": [
       "array([0.38, 0.62])"
      ]
     },
     "execution_count": 6,
     "metadata": {},
     "output_type": "execute_result"
    }
   ],
   "source": [
    "np.dot(a,b)"
   ]
  },
  {
   "cell_type": "code",
   "execution_count": 7,
   "metadata": {},
   "outputs": [
    {
     "data": {
      "text/plain": [
       "array([0.33333333, 0.66666667])"
      ]
     },
     "execution_count": 7,
     "metadata": {},
     "output_type": "execute_result"
    }
   ],
   "source": [
    "for i in range(1000):\n",
    "    a = np.dot(a,b)\n",
    "a"
   ]
  },
  {
   "cell_type": "code",
   "execution_count": 8,
   "metadata": {
    "collapsed": true
   },
   "outputs": [],
   "source": [
    "a1 = [0.4,0.6]\n",
    "b2=[[0.8,0.2],[0.1,0.9]]"
   ]
  },
  {
   "cell_type": "code",
   "execution_count": 9,
   "metadata": {},
   "outputs": [
    {
     "data": {
      "text/plain": [
       "array([0.33333333, 0.66666667])"
      ]
     },
     "execution_count": 9,
     "metadata": {},
     "output_type": "execute_result"
    }
   ],
   "source": [
    "np.dot(a,b)"
   ]
  },
  {
   "cell_type": "code",
   "execution_count": null,
   "metadata": {
    "collapsed": true
   },
   "outputs": [],
   "source": []
  }
 ],
 "metadata": {
  "kernelspec": {
   "display_name": "Python [conda env:anaconda]",
   "language": "python",
   "name": "conda-env-anaconda-py"
  },
  "language_info": {
   "codemirror_mode": {
    "name": "ipython",
    "version": 3
   },
   "file_extension": ".py",
   "mimetype": "text/x-python",
   "name": "python",
   "nbconvert_exporter": "python",
   "pygments_lexer": "ipython3",
   "version": "3.6.1"
  }
 },
 "nbformat": 4,
 "nbformat_minor": 2
}
