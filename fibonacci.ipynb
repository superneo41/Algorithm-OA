{
 "cells": [
  {
   "cell_type": "code",
   "execution_count": 69,
   "metadata": {},
   "outputs": [],
   "source": [
    "def nearestSmallerEqFib(n): \n",
    "      \n",
    "    # Corner cases \n",
    "    if (n == 0 or n == 1): \n",
    "        return n \n",
    "         \n",
    "    # Finds the greatest Fibonacci Number smaller \n",
    "    # than n. \n",
    "    f1, f2, f3 = 0, 1, 1\n",
    "    while (f3 <= n): \n",
    "        f1 = f2; \n",
    "        f2 = f3; \n",
    "        f3 = f1 + f2; \n",
    "    return f2; \n",
    "\n",
    "def checkFib(x,n): \n",
    "    count = 0\n",
    "    while (x>0): \n",
    "  \n",
    "        # Find the greates Fibonacci Number smaller \n",
    "        # than or equal to n \n",
    "        f = nearestSmallerEqFib(x); \n",
    "        count += 1\n",
    "        print(f)\n",
    "        # Reduce n \n",
    "        x = x-f \n",
    "        \n",
    "    if count == n: return True\n",
    "    if count > n : return False\n",
    "    if count < n:\n",
    "        if n-count == 4:\n",
    "            return True if f>=21 else False\n",
    "        elif n-count==3:\n",
    "            return True if f>=13 else False\n",
    "        elif n-count==2:\n",
    "            return True if f>=8 else False\n",
    "        elif n-count==1:\n",
    "            return True if f>=5 else False"
   ]
  },
  {
   "cell_type": "code",
   "execution_count": 74,
   "metadata": {},
   "outputs": [
    {
     "name": "stdout",
     "output_type": "stream",
     "text": [
      "9227465\n",
      "832040\n",
      "55\n"
     ]
    },
    {
     "data": {
      "text/plain": [
       "True"
      ]
     },
     "execution_count": 74,
     "metadata": {},
     "output_type": "execute_result"
    }
   ],
   "source": [
    "checkFib(10059560,4)"
   ]
  },
  {
   "cell_type": "code",
   "execution_count": 13,
   "metadata": {},
   "outputs": [
    {
     "data": {
      "text/plain": [
       "55"
      ]
     },
     "execution_count": 13,
     "metadata": {},
     "output_type": "execute_result"
    }
   ],
   "source": [
    "nearestSmallerEqFib(55)\n",
    "    "
   ]
  },
  {
   "cell_type": "code",
   "execution_count": null,
   "metadata": {
    "collapsed": true
   },
   "outputs": [],
   "source": []
  }
 ],
 "metadata": {
  "kernelspec": {
   "display_name": "Python [conda env:anaconda]",
   "language": "python",
   "name": "conda-env-anaconda-py"
  },
  "language_info": {
   "codemirror_mode": {
    "name": "ipython",
    "version": 3
   },
   "file_extension": ".py",
   "mimetype": "text/x-python",
   "name": "python",
   "nbconvert_exporter": "python",
   "pygments_lexer": "ipython3",
   "version": "3.6.1"
  }
 },
 "nbformat": 4,
 "nbformat_minor": 2
}
